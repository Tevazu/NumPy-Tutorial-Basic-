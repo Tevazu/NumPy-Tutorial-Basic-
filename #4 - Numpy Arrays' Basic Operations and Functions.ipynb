{
 "cells": [
  {
   "cell_type": "markdown",
   "id": "652e719e",
   "metadata": {},
   "source": [
    "## Basic Operations of Numpy Arrays':"
   ]
  },
  {
   "cell_type": "code",
   "execution_count": 1,
   "id": "f903c735",
   "metadata": {},
   "outputs": [],
   "source": [
    "import numpy as np"
   ]
  },
  {
   "cell_type": "code",
   "execution_count": 17,
   "id": "9282a471",
   "metadata": {},
   "outputs": [],
   "source": [
    "arr1 = np.array([10, 20, 30, 40, 50, 60])\n",
    "arr2 = np.array([2, 3, 4, 5, 6, 7])"
   ]
  },
  {
   "cell_type": "markdown",
   "id": "0d47636a",
   "metadata": {},
   "source": [
    "**Addition:**"
   ]
  },
  {
   "cell_type": "code",
   "execution_count": 25,
   "id": "fbbc173a",
   "metadata": {},
   "outputs": [
    {
     "data": {
      "text/plain": [
       "array([12, 23, 34, 45, 56, 67])"
      ]
     },
     "execution_count": 25,
     "metadata": {},
     "output_type": "execute_result"
    }
   ],
   "source": [
    "arr1 + arr2 # Each component will be summed up among themselves"
   ]
  },
  {
   "cell_type": "markdown",
   "id": "229d9aee",
   "metadata": {},
   "source": [
    "**Note: You cannot sum up different dimensional arrays. They should have same dimension.**"
   ]
  },
  {
   "cell_type": "code",
   "execution_count": 19,
   "id": "c9b932db",
   "metadata": {},
   "outputs": [
    {
     "data": {
      "text/plain": [
       "array([20, 30, 40, 50, 60, 70])"
      ]
     },
     "execution_count": 19,
     "metadata": {},
     "output_type": "execute_result"
    }
   ],
   "source": [
    "arr1 + 10 # 10 will be added to each component of arr1"
   ]
  },
  {
   "cell_type": "markdown",
   "id": "3efce89c",
   "metadata": {},
   "source": [
    "***\n",
    "**Subtraction:**"
   ]
  },
  {
   "cell_type": "code",
   "execution_count": 20,
   "id": "df3b2c4a",
   "metadata": {},
   "outputs": [
    {
     "data": {
      "text/plain": [
       "array([ 8, 17, 26, 35, 44, 53])"
      ]
     },
     "execution_count": 20,
     "metadata": {},
     "output_type": "execute_result"
    }
   ],
   "source": [
    "arr1 - arr2 # Each component will be subtracted among themselves"
   ]
  },
  {
   "cell_type": "code",
   "execution_count": 23,
   "id": "48b1e2a8",
   "metadata": {},
   "outputs": [
    {
     "data": {
      "text/plain": [
       "array([-13, -12, -11, -10,  -9,  -8])"
      ]
     },
     "execution_count": 23,
     "metadata": {},
     "output_type": "execute_result"
    }
   ],
   "source": [
    "arr2 - 15 # 15 will be subtracted from each component of arr2"
   ]
  },
  {
   "cell_type": "markdown",
   "id": "ac79e144",
   "metadata": {},
   "source": [
    "***\n",
    "**Multiplication:**"
   ]
  },
  {
   "cell_type": "code",
   "execution_count": 21,
   "id": "e3bd1238",
   "metadata": {},
   "outputs": [
    {
     "data": {
      "text/plain": [
       "array([ 20,  60, 120, 200, 300, 420])"
      ]
     },
     "execution_count": 21,
     "metadata": {},
     "output_type": "execute_result"
    }
   ],
   "source": [
    "arr1 * arr2 # Each component will be multiplied among themselves"
   ]
  },
  {
   "cell_type": "markdown",
   "id": "28527d0e",
   "metadata": {},
   "source": [
    "**Note:** This actually is finding **Inner Product** in physical terms."
   ]
  },
  {
   "cell_type": "markdown",
   "id": "a7226056",
   "metadata": {},
   "source": [
    "***\n",
    "**Division:**"
   ]
  },
  {
   "cell_type": "code",
   "execution_count": 26,
   "id": "2a916db4",
   "metadata": {},
   "outputs": [
    {
     "data": {
      "text/plain": [
       "array([ 3.33333333,  6.66666667, 10.        , 13.33333333, 16.66666667,\n",
       "       20.        ])"
      ]
     },
     "execution_count": 26,
     "metadata": {},
     "output_type": "execute_result"
    }
   ],
   "source": [
    "arr1 / 3 # Each component will be divided by 3"
   ]
  },
  {
   "cell_type": "markdown",
   "id": "63ea022f",
   "metadata": {},
   "source": [
    "***\n",
    "**Taking square root:**"
   ]
  },
  {
   "cell_type": "code",
   "execution_count": 28,
   "id": "a567bad1",
   "metadata": {},
   "outputs": [
    {
     "data": {
      "text/plain": [
       "array([1.41421356, 1.73205081, 2.        , 2.23606798, 2.44948974,\n",
       "       2.64575131])"
      ]
     },
     "execution_count": 28,
     "metadata": {},
     "output_type": "execute_result"
    }
   ],
   "source": [
    "np.sqrt(arr2)"
   ]
  },
  {
   "cell_type": "markdown",
   "id": "a2b68594",
   "metadata": {},
   "source": [
    "***\n",
    "**For more functions and operations: https://docs.scipy.org/doc/**\n",
    "Go > NumPy User Guide"
   ]
  },
  {
   "cell_type": "code",
   "execution_count": null,
   "id": "6bff3063",
   "metadata": {},
   "outputs": [],
   "source": []
  }
 ],
 "metadata": {
  "kernelspec": {
   "display_name": "Python 3",
   "language": "python",
   "name": "python3"
  },
  "language_info": {
   "codemirror_mode": {
    "name": "ipython",
    "version": 3
   },
   "file_extension": ".py",
   "mimetype": "text/x-python",
   "name": "python",
   "nbconvert_exporter": "python",
   "pygments_lexer": "ipython3",
   "version": "3.8.8"
  }
 },
 "nbformat": 4,
 "nbformat_minor": 5
}

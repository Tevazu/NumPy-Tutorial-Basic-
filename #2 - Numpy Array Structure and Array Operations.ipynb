{
 "cells": [
  {
   "cell_type": "markdown",
   "id": "fa3c546f",
   "metadata": {},
   "source": [
    "## Numpy Array Creation Methods:"
   ]
  },
  {
   "cell_type": "code",
   "execution_count": 2,
   "id": "22ead902",
   "metadata": {},
   "outputs": [],
   "source": [
    "data_list = [1,2,3]  # One-dimensional list"
   ]
  },
  {
   "cell_type": "code",
   "execution_count": 3,
   "id": "e248fe74",
   "metadata": {},
   "outputs": [
    {
     "data": {
      "text/plain": [
       "[1, 2, 3]"
      ]
     },
     "execution_count": 3,
     "metadata": {},
     "output_type": "execute_result"
    }
   ],
   "source": [
    "data_list"
   ]
  },
  {
   "cell_type": "code",
   "execution_count": 38,
   "id": "98abdd22",
   "metadata": {},
   "outputs": [],
   "source": [
    "import numpy as np  #Usually people use numpy as \"np\""
   ]
  },
  {
   "cell_type": "code",
   "execution_count": 5,
   "id": "8741906f",
   "metadata": {},
   "outputs": [],
   "source": [
    "arr = np.array(data_list) #We created a numpy array"
   ]
  },
  {
   "cell_type": "code",
   "execution_count": 6,
   "id": "c24c7750",
   "metadata": {},
   "outputs": [
    {
     "data": {
      "text/plain": [
       "array([1, 2, 3])"
      ]
     },
     "execution_count": 6,
     "metadata": {},
     "output_type": "execute_result"
    }
   ],
   "source": [
    "arr"
   ]
  },
  {
   "cell_type": "code",
   "execution_count": 7,
   "id": "430bc685",
   "metadata": {},
   "outputs": [],
   "source": [
    "data_list2 = [[10, 20, 30],[40, 50, 60],[70, 80, 90]] #3x3 matrix list"
   ]
  },
  {
   "cell_type": "code",
   "execution_count": 11,
   "id": "9ac4e258",
   "metadata": {},
   "outputs": [],
   "source": [
    "arr2 = np.array(data_list2)"
   ]
  },
  {
   "cell_type": "code",
   "execution_count": 12,
   "id": "9f597c97",
   "metadata": {},
   "outputs": [
    {
     "data": {
      "text/plain": [
       "array([[10, 20, 30],\n",
       "       [40, 50, 60],\n",
       "       [70, 80, 90]])"
      ]
     },
     "execution_count": 12,
     "metadata": {},
     "output_type": "execute_result"
    }
   ],
   "source": [
    "arr2"
   ]
  },
  {
   "cell_type": "code",
   "execution_count": 14,
   "id": "8dd7ed1e",
   "metadata": {},
   "outputs": [
    {
     "data": {
      "text/plain": [
       "array([1, 2, 3, 4, 5])"
      ]
     },
     "execution_count": 14,
     "metadata": {},
     "output_type": "execute_result"
    }
   ],
   "source": [
    "arr3 =  np.array([1,2,3,4,5]) #Short way to create a numpy array\n",
    "arr3"
   ]
  },
  {
   "cell_type": "markdown",
   "id": "e4269bdf",
   "metadata": {},
   "source": [
    "## We can reach components as same as lists:"
   ]
  },
  {
   "cell_type": "code",
   "execution_count": 15,
   "id": "18adfb35",
   "metadata": {},
   "outputs": [
    {
     "data": {
      "text/plain": [
       "1"
      ]
     },
     "execution_count": 15,
     "metadata": {},
     "output_type": "execute_result"
    }
   ],
   "source": [
    "arr3[0]"
   ]
  },
  {
   "cell_type": "code",
   "execution_count": 17,
   "id": "205651cc",
   "metadata": {},
   "outputs": [
    {
     "data": {
      "text/plain": [
       "4"
      ]
     },
     "execution_count": 17,
     "metadata": {},
     "output_type": "execute_result"
    }
   ],
   "source": [
    "arr3[3]"
   ]
  },
  {
   "cell_type": "code",
   "execution_count": 19,
   "id": "4172fbc0",
   "metadata": {},
   "outputs": [
    {
     "data": {
      "text/plain": [
       "90"
      ]
     },
     "execution_count": 19,
     "metadata": {},
     "output_type": "execute_result"
    }
   ],
   "source": [
    "arr2[2,2]"
   ]
  },
  {
   "cell_type": "code",
   "execution_count": 23,
   "id": "887c2aa4",
   "metadata": {},
   "outputs": [
    {
     "data": {
      "text/plain": [
       "20"
      ]
     },
     "execution_count": 23,
     "metadata": {},
     "output_type": "execute_result"
    }
   ],
   "source": [
    "arr2[0,1]"
   ]
  },
  {
   "cell_type": "markdown",
   "id": "d78af1fe",
   "metadata": {},
   "source": [
    "## Using different methods on numpy:"
   ]
  },
  {
   "cell_type": "markdown",
   "id": "21c2f14b",
   "metadata": {},
   "source": [
    "### range():"
   ]
  },
  {
   "cell_type": "code",
   "execution_count": 24,
   "id": "cbc9fff9",
   "metadata": {},
   "outputs": [
    {
     "data": {
      "text/plain": [
       "array([10, 11, 12, 13, 14, 15, 16, 17, 18, 19])"
      ]
     },
     "execution_count": 24,
     "metadata": {},
     "output_type": "execute_result"
    }
   ],
   "source": [
    "np.arange(10,20)"
   ]
  },
  {
   "cell_type": "code",
   "execution_count": 25,
   "id": "6ed55bc2",
   "metadata": {},
   "outputs": [
    {
     "data": {
      "text/plain": [
       "array([ 0,  3,  6,  9, 12, 15, 18, 21, 24, 27, 30, 33, 36, 39, 42, 45, 48,\n",
       "       51, 54, 57, 60, 63, 66, 69, 72, 75, 78, 81, 84, 87, 90, 93, 96, 99])"
      ]
     },
     "execution_count": 25,
     "metadata": {},
     "output_type": "execute_result"
    }
   ],
   "source": [
    "np.arange(0,100,3)"
   ]
  },
  {
   "cell_type": "markdown",
   "id": "3c5a926a",
   "metadata": {},
   "source": [
    "### zeros() and ones():\n",
    "**zeros():** Creates zeros as much as the given number.\\\n",
    "**ones():** Creates ones as much as the given number."
   ]
  },
  {
   "cell_type": "code",
   "execution_count": 28,
   "id": "6006f7e1",
   "metadata": {},
   "outputs": [
    {
     "data": {
      "text/plain": [
       "array([0., 0., 0., 0., 0., 0., 0., 0., 0., 0.])"
      ]
     },
     "execution_count": 28,
     "metadata": {},
     "output_type": "execute_result"
    }
   ],
   "source": [
    "np.zeros(10) #The \".\" means it gets print as float."
   ]
  },
  {
   "cell_type": "code",
   "execution_count": 31,
   "id": "093ac75b",
   "metadata": {},
   "outputs": [
    {
     "data": {
      "text/plain": [
       "array([1., 1., 1., 1., 1., 1., 1., 1., 1., 1.])"
      ]
     },
     "execution_count": 31,
     "metadata": {},
     "output_type": "execute_result"
    }
   ],
   "source": [
    "np.ones(10)"
   ]
  },
  {
   "cell_type": "code",
   "execution_count": 32,
   "id": "ece97b75",
   "metadata": {},
   "outputs": [
    {
     "data": {
      "text/plain": [
       "array([[0., 0.],\n",
       "       [0., 0.]])"
      ]
     },
     "execution_count": 32,
     "metadata": {},
     "output_type": "execute_result"
    }
   ],
   "source": [
    "np.zeros((2,2)) #Creates 2x2 matrix"
   ]
  },
  {
   "cell_type": "code",
   "execution_count": 34,
   "id": "7b70512c",
   "metadata": {},
   "outputs": [
    {
     "data": {
      "text/plain": [
       "array([[1., 1., 1., 1.],\n",
       "       [1., 1., 1., 1.],\n",
       "       [1., 1., 1., 1.]])"
      ]
     },
     "execution_count": 34,
     "metadata": {},
     "output_type": "execute_result"
    }
   ],
   "source": [
    "np.ones((3,4)) #Creates 3x4 matrix"
   ]
  },
  {
   "cell_type": "markdown",
   "id": "f44b93ca",
   "metadata": {},
   "source": [
    "### linspace(x,y,z):\n",
    "Divides numbers between x and y into z equal parts."
   ]
  },
  {
   "cell_type": "code",
   "execution_count": 35,
   "id": "0df0674a",
   "metadata": {},
   "outputs": [
    {
     "data": {
      "text/plain": [
       "array([  0.,  25.,  50.,  75., 100.])"
      ]
     },
     "execution_count": 35,
     "metadata": {},
     "output_type": "execute_result"
    }
   ],
   "source": [
    "np.linspace(0,100,5)"
   ]
  },
  {
   "cell_type": "code",
   "execution_count": 36,
   "id": "94005a17",
   "metadata": {},
   "outputs": [
    {
     "data": {
      "text/plain": [
       "array([0. , 0.2, 0.4, 0.6, 0.8, 1. ])"
      ]
     },
     "execution_count": 36,
     "metadata": {},
     "output_type": "execute_result"
    }
   ],
   "source": [
    "np.linspace(0,1,6)"
   ]
  },
  {
   "cell_type": "markdown",
   "id": "40c1d076",
   "metadata": {},
   "source": [
    "### eye():\n",
    "It creates a given number ranged matrix which its diagonals are 1."
   ]
  },
  {
   "cell_type": "code",
   "execution_count": 39,
   "id": "29abbdea",
   "metadata": {},
   "outputs": [
    {
     "data": {
      "text/plain": [
       "array([[1., 0., 0., 0., 0.],\n",
       "       [0., 1., 0., 0., 0.],\n",
       "       [0., 0., 1., 0., 0.],\n",
       "       [0., 0., 0., 1., 0.],\n",
       "       [0., 0., 0., 0., 1.]])"
      ]
     },
     "execution_count": 39,
     "metadata": {},
     "output_type": "execute_result"
    }
   ],
   "source": [
    "np.eye(5)"
   ]
  },
  {
   "cell_type": "markdown",
   "id": "03e8df5c",
   "metadata": {},
   "source": [
    "### random.randint / rand / randn():\n",
    "Creates random integers between given range."
   ]
  },
  {
   "cell_type": "code",
   "execution_count": 48,
   "id": "42566fe7",
   "metadata": {},
   "outputs": [
    {
     "data": {
      "text/plain": [
       "7"
      ]
     },
     "execution_count": 48,
     "metadata": {},
     "output_type": "execute_result"
    }
   ],
   "source": [
    "np.random.randint(0,10)"
   ]
  },
  {
   "cell_type": "code",
   "execution_count": 49,
   "id": "f87ac150",
   "metadata": {},
   "outputs": [
    {
     "data": {
      "text/plain": [
       "1"
      ]
     },
     "execution_count": 49,
     "metadata": {},
     "output_type": "execute_result"
    }
   ],
   "source": [
    "np.random.randint(15) #If you enter one value it will assume as it starts from 0"
   ]
  },
  {
   "cell_type": "code",
   "execution_count": 55,
   "id": "14d26820",
   "metadata": {},
   "outputs": [
    {
     "data": {
      "text/plain": [
       "array([2, 6, 9, 4, 4])"
      ]
     },
     "execution_count": 55,
     "metadata": {},
     "output_type": "execute_result"
    }
   ],
   "source": [
    "np.random.randint(1,10,5) #It will return 5 random numbers between 1-10 as array"
   ]
  },
  {
   "cell_type": "code",
   "execution_count": 51,
   "id": "9de6887a",
   "metadata": {},
   "outputs": [
    {
     "data": {
      "text/plain": [
       "array([0.65877504, 0.77153648, 0.25993434, 0.14349818, 0.85542657])"
      ]
     },
     "execution_count": 51,
     "metadata": {},
     "output_type": "execute_result"
    }
   ],
   "source": [
    "np.random.rand(5)"
   ]
  },
  {
   "cell_type": "code",
   "execution_count": 54,
   "id": "2dd5d422",
   "metadata": {},
   "outputs": [
    {
     "data": {
      "text/plain": [
       "array([-0.53651878, -1.00668938,  1.3477848 ,  1.07986558, -1.28892618])"
      ]
     },
     "execution_count": 54,
     "metadata": {},
     "output_type": "execute_result"
    }
   ],
   "source": [
    "np.random.randn(5) # It will create negative numbers too"
   ]
  },
  {
   "cell_type": "markdown",
   "id": "0e267e15",
   "metadata": {},
   "source": [
    "### reshape():\n",
    "To shape matrices into wanted range"
   ]
  },
  {
   "cell_type": "code",
   "execution_count": 73,
   "id": "dc92b1fb",
   "metadata": {},
   "outputs": [
    {
     "data": {
      "text/plain": [
       "array([ 0,  1,  2,  3,  4,  5,  6,  7,  8,  9, 10, 11, 12, 13, 14, 15, 16,\n",
       "       17, 18, 19, 20, 21, 22, 23, 24])"
      ]
     },
     "execution_count": 73,
     "metadata": {},
     "output_type": "execute_result"
    }
   ],
   "source": [
    "arr = np.arange(25)\n",
    "arr"
   ]
  },
  {
   "cell_type": "code",
   "execution_count": 74,
   "id": "f648c52b",
   "metadata": {},
   "outputs": [
    {
     "data": {
      "text/plain": [
       "array([[ 0,  1,  2,  3,  4],\n",
       "       [ 5,  6,  7,  8,  9],\n",
       "       [10, 11, 12, 13, 14],\n",
       "       [15, 16, 17, 18, 19],\n",
       "       [20, 21, 22, 23, 24]])"
      ]
     },
     "execution_count": 74,
     "metadata": {},
     "output_type": "execute_result"
    }
   ],
   "source": [
    "arr.reshape(5,5) # Converts arr array into 5x5 matrix"
   ]
  },
  {
   "cell_type": "markdown",
   "id": "924453fa",
   "metadata": {},
   "source": [
    "##### Be careful, the given range should fit the number of components:"
   ]
  },
  {
   "cell_type": "code",
   "execution_count": 75,
   "id": "caa00d17",
   "metadata": {},
   "outputs": [
    {
     "ename": "ValueError",
     "evalue": "cannot reshape array of size 25 into shape (4,5)",
     "output_type": "error",
     "traceback": [
      "\u001b[1;31m---------------------------------------------------------------------------\u001b[0m",
      "\u001b[1;31mValueError\u001b[0m                                Traceback (most recent call last)",
      "\u001b[1;32m<ipython-input-75-09ba9c9f0fa4>\u001b[0m in \u001b[0;36m<module>\u001b[1;34m\u001b[0m\n\u001b[1;32m----> 1\u001b[1;33m \u001b[0marr\u001b[0m\u001b[1;33m.\u001b[0m\u001b[0mreshape\u001b[0m\u001b[1;33m(\u001b[0m\u001b[1;36m4\u001b[0m\u001b[1;33m,\u001b[0m\u001b[1;36m5\u001b[0m\u001b[1;33m)\u001b[0m\u001b[1;33m\u001b[0m\u001b[1;33m\u001b[0m\u001b[0m\n\u001b[0m",
      "\u001b[1;31mValueError\u001b[0m: cannot reshape array of size 25 into shape (4,5)"
     ]
    }
   ],
   "source": [
    "arr.reshape(4,5)"
   ]
  },
  {
   "cell_type": "markdown",
   "id": "f04a8dc8",
   "metadata": {},
   "source": [
    "**It gives an error because 4 times 5 equals 20. There are still 4 more components in arr array. So the multiplication of the given range, should be the same as components number.**"
   ]
  },
  {
   "cell_type": "markdown",
   "id": "675a1056",
   "metadata": {},
   "source": [
    "#  "
   ]
  },
  {
   "cell_type": "markdown",
   "id": "9331050d",
   "metadata": {},
   "source": [
    "### max(), min() and sum():"
   ]
  },
  {
   "cell_type": "code",
   "execution_count": 81,
   "id": "9d2bc096",
   "metadata": {},
   "outputs": [
    {
     "data": {
      "text/plain": [
       "array([68, 47, 46, 32,  1, 81, 63, 19, 41, 98])"
      ]
     },
     "execution_count": 81,
     "metadata": {},
     "output_type": "execute_result"
    }
   ],
   "source": [
    "newArray = np.random.randint(1,100,10)\n",
    "newArray"
   ]
  },
  {
   "cell_type": "code",
   "execution_count": 83,
   "id": "32f57749",
   "metadata": {},
   "outputs": [
    {
     "data": {
      "text/plain": [
       "98"
      ]
     },
     "execution_count": 83,
     "metadata": {},
     "output_type": "execute_result"
    }
   ],
   "source": [
    "newArray.max() # Biggest number in the array"
   ]
  },
  {
   "cell_type": "code",
   "execution_count": 84,
   "id": "9f09cca3",
   "metadata": {},
   "outputs": [
    {
     "data": {
      "text/plain": [
       "1"
      ]
     },
     "execution_count": 84,
     "metadata": {},
     "output_type": "execute_result"
    }
   ],
   "source": [
    "newArray.min() # Smallest number in the array"
   ]
  },
  {
   "cell_type": "code",
   "execution_count": 88,
   "id": "989de46c",
   "metadata": {},
   "outputs": [
    {
     "data": {
      "text/plain": [
       "496"
      ]
     },
     "execution_count": 88,
     "metadata": {},
     "output_type": "execute_result"
    }
   ],
   "source": [
    "newArray.sum() #Sum of the numbers in the array"
   ]
  },
  {
   "cell_type": "code",
   "execution_count": 89,
   "id": "7604b71d",
   "metadata": {},
   "outputs": [
    {
     "data": {
      "text/plain": [
       "49.6"
      ]
     },
     "execution_count": 89,
     "metadata": {},
     "output_type": "execute_result"
    }
   ],
   "source": [
    "newArray.mean() # Mean of the numbers"
   ]
  },
  {
   "cell_type": "markdown",
   "id": "95e6f215",
   "metadata": {},
   "source": [
    "### Finding indices:"
   ]
  },
  {
   "cell_type": "code",
   "execution_count": 90,
   "id": "98784ce1",
   "metadata": {},
   "outputs": [
    {
     "data": {
      "text/plain": [
       "9"
      ]
     },
     "execution_count": 90,
     "metadata": {},
     "output_type": "execute_result"
    }
   ],
   "source": [
    "newArray.argmax() # Finds maximum number's index"
   ]
  },
  {
   "cell_type": "code",
   "execution_count": 91,
   "id": "00bbf3e5",
   "metadata": {},
   "outputs": [
    {
     "data": {
      "text/plain": [
       "4"
      ]
     },
     "execution_count": 91,
     "metadata": {},
     "output_type": "execute_result"
    }
   ],
   "source": [
    "newArray.argmin() # Finds minimum number's index"
   ]
  },
  {
   "cell_type": "markdown",
   "id": "07d139a3",
   "metadata": {},
   "source": [
    "### Finding determinant and round():\n",
    "**linalg().det:** Finds determinant of a matrix\\\n",
    "**round():** Rounds the number"
   ]
  },
  {
   "cell_type": "code",
   "execution_count": 96,
   "id": "d0b7af19",
   "metadata": {},
   "outputs": [
    {
     "data": {
      "text/plain": [
       "array([37, 42,  2, 25, 42, 26, 63, 28, 66, 40, 26, 16, 22, 10, 18, 48, 43,\n",
       "       23, 85, 80, 37, 57,  6, 94, 34])"
      ]
     },
     "execution_count": 96,
     "metadata": {},
     "output_type": "execute_result"
    }
   ],
   "source": [
    "detArray = np.random.randint(1,100,25)\n",
    "detArray"
   ]
  },
  {
   "cell_type": "code",
   "execution_count": 97,
   "id": "efa0b61d",
   "metadata": {},
   "outputs": [
    {
     "data": {
      "text/plain": [
       "array([[37, 42,  2, 25, 42],\n",
       "       [26, 63, 28, 66, 40],\n",
       "       [26, 16, 22, 10, 18],\n",
       "       [48, 43, 23, 85, 80],\n",
       "       [37, 57,  6, 94, 34]])"
      ]
     },
     "execution_count": 97,
     "metadata": {},
     "output_type": "execute_result"
    }
   ],
   "source": [
    "detArray = detArray.reshape(5,5)\n",
    "detArray"
   ]
  },
  {
   "cell_type": "code",
   "execution_count": 99,
   "id": "efa2aa6d",
   "metadata": {},
   "outputs": [
    {
     "data": {
      "text/plain": [
       "-102939921.99999985"
      ]
     },
     "execution_count": 99,
     "metadata": {},
     "output_type": "execute_result"
    }
   ],
   "source": [
    "np.linalg.det(detArray) # Finds the determinant of the array"
   ]
  },
  {
   "cell_type": "code",
   "execution_count": 104,
   "id": "3228ace0",
   "metadata": {},
   "outputs": [
    {
     "data": {
      "text/plain": [
       "array([[1, 2],\n",
       "       [3, 4]])"
      ]
     },
     "execution_count": 104,
     "metadata": {},
     "output_type": "execute_result"
    }
   ],
   "source": [
    "detArray2 = np.array([[1,2],[3,4]])\n",
    "detArray2"
   ]
  },
  {
   "cell_type": "code",
   "execution_count": 105,
   "id": "a82ee4e4",
   "metadata": {},
   "outputs": [
    {
     "data": {
      "text/plain": [
       "-2.0000000000000004"
      ]
     },
     "execution_count": 105,
     "metadata": {},
     "output_type": "execute_result"
    }
   ],
   "source": [
    "np.linalg.det(detArray2)"
   ]
  },
  {
   "cell_type": "markdown",
   "id": "f4c8699b",
   "metadata": {},
   "source": [
    "***\n",
    "Let's make this look better:"
   ]
  },
  {
   "cell_type": "code",
   "execution_count": 114,
   "id": "6a35f506",
   "metadata": {},
   "outputs": [
    {
     "data": {
      "text/plain": [
       "-2"
      ]
     },
     "execution_count": 114,
     "metadata": {},
     "output_type": "execute_result"
    }
   ],
   "source": [
    "round(np.linalg.det(detArray2)) # Rounds the number"
   ]
  }
 ],
 "metadata": {
  "kernelspec": {
   "display_name": "Python 3",
   "language": "python",
   "name": "python3"
  },
  "language_info": {
   "codemirror_mode": {
    "name": "ipython",
    "version": 3
   },
   "file_extension": ".py",
   "mimetype": "text/x-python",
   "name": "python",
   "nbconvert_exporter": "python",
   "pygments_lexer": "ipython3",
   "version": "3.8.8"
  }
 },
 "nbformat": 4,
 "nbformat_minor": 5
}

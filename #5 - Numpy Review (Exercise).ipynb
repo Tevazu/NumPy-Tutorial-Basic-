{
 "cells": [
  {
   "cell_type": "markdown",
   "id": "983a34c8",
   "metadata": {},
   "source": [
    "#### Include numpy"
   ]
  },
  {
   "cell_type": "code",
   "execution_count": 3,
   "id": "ed1f1b2e",
   "metadata": {},
   "outputs": [],
   "source": [
    "import numpy as np"
   ]
  },
  {
   "cell_type": "markdown",
   "id": "da8b77e0",
   "metadata": {},
   "source": [
    "#### Create an array contains 5 1s"
   ]
  },
  {
   "cell_type": "code",
   "execution_count": 5,
   "id": "c294d5e1",
   "metadata": {},
   "outputs": [
    {
     "data": {
      "text/plain": [
       "array([1., 1., 1., 1., 1.])"
      ]
     },
     "execution_count": 5,
     "metadata": {},
     "output_type": "execute_result"
    }
   ],
   "source": [
    "arr = np.ones(5)\n",
    "arr"
   ]
  },
  {
   "cell_type": "markdown",
   "id": "92c67dd4",
   "metadata": {},
   "source": [
    "#### Create an array contains 5 0s"
   ]
  },
  {
   "cell_type": "code",
   "execution_count": 7,
   "id": "033e5b2a",
   "metadata": {},
   "outputs": [
    {
     "data": {
      "text/plain": [
       "array([0., 0., 0., 0., 0.])"
      ]
     },
     "execution_count": 7,
     "metadata": {},
     "output_type": "execute_result"
    }
   ],
   "source": [
    "arr = np.zeros(5)\n",
    "arr"
   ]
  },
  {
   "cell_type": "markdown",
   "id": "0c802b99",
   "metadata": {},
   "source": [
    "#### Create an array of values from 2 to 100 that can divisible by 2"
   ]
  },
  {
   "cell_type": "code",
   "execution_count": 9,
   "id": "525bc412",
   "metadata": {
    "scrolled": true
   },
   "outputs": [
    {
     "data": {
      "text/plain": [
       "array([  2,   4,   6,   8,  10,  12,  14,  16,  18,  20,  22,  24,  26,\n",
       "        28,  30,  32,  34,  36,  38,  40,  42,  44,  46,  48,  50,  52,\n",
       "        54,  56,  58,  60,  62,  64,  66,  68,  70,  72,  74,  76,  78,\n",
       "        80,  82,  84,  86,  88,  90,  92,  94,  96,  98, 100])"
      ]
     },
     "execution_count": 9,
     "metadata": {},
     "output_type": "execute_result"
    }
   ],
   "source": [
    "arr = np.arange(2,101,2)\n",
    "arr"
   ]
  },
  {
   "cell_type": "markdown",
   "id": "7f643bde",
   "metadata": {},
   "source": [
    "#### Create an array that contains 5 10s"
   ]
  },
  {
   "cell_type": "code",
   "execution_count": 11,
   "id": "997eeb3a",
   "metadata": {},
   "outputs": [
    {
     "data": {
      "text/plain": [
       "array([10., 10., 10., 10., 10.])"
      ]
     },
     "execution_count": 11,
     "metadata": {},
     "output_type": "execute_result"
    }
   ],
   "source": [
    "arr = np.ones(5)*10\n",
    "arr"
   ]
  },
  {
   "cell_type": "code",
   "execution_count": 14,
   "id": "051e93d2",
   "metadata": {},
   "outputs": [
    {
     "data": {
      "text/plain": [
       "array([10., 10., 10., 10., 10.])"
      ]
     },
     "execution_count": 14,
     "metadata": {},
     "output_type": "execute_result"
    }
   ],
   "source": [
    "arr = np.ones(5)         #OTHER WAY\n",
    "arr[:] = 10\n",
    "arr"
   ]
  },
  {
   "cell_type": "markdown",
   "id": "217116d8",
   "metadata": {},
   "source": [
    "#### Create a 4x4 matrix with values from 1 to 16"
   ]
  },
  {
   "cell_type": "code",
   "execution_count": 23,
   "id": "f065c6fc",
   "metadata": {},
   "outputs": [
    {
     "data": {
      "text/plain": [
       "array([[ 1,  2,  3,  4],\n",
       "       [ 5,  6,  7,  8],\n",
       "       [ 9, 10, 11, 12],\n",
       "       [13, 14, 15, 16]])"
      ]
     },
     "execution_count": 23,
     "metadata": {},
     "output_type": "execute_result"
    }
   ],
   "source": [
    "arr = np.arange(1,17).reshape(4,4)\n",
    "arr"
   ]
  },
  {
   "cell_type": "markdown",
   "id": "11ab96a1",
   "metadata": {},
   "source": [
    "#### Create a 4x4 unit matrix"
   ]
  },
  {
   "cell_type": "code",
   "execution_count": 25,
   "id": "a7116e85",
   "metadata": {},
   "outputs": [
    {
     "data": {
      "text/plain": [
       "array([[1., 0., 0., 0.],\n",
       "       [0., 1., 0., 0.],\n",
       "       [0., 0., 1., 0.],\n",
       "       [0., 0., 0., 1.]])"
      ]
     },
     "execution_count": 25,
     "metadata": {},
     "output_type": "execute_result"
    }
   ],
   "source": [
    "arr = np.eye(4)\n",
    "arr"
   ]
  },
  {
   "cell_type": "markdown",
   "id": "b2cccada",
   "metadata": {},
   "source": [
    "#### Create random integers between 0-5"
   ]
  },
  {
   "cell_type": "code",
   "execution_count": 41,
   "id": "eec08206",
   "metadata": {},
   "outputs": [
    {
     "data": {
      "text/plain": [
       "array([0, 1, 3, 0, 2])"
      ]
     },
     "execution_count": 41,
     "metadata": {},
     "output_type": "execute_result"
    }
   ],
   "source": [
    "arr = np.random.randint(0,5,5)\n",
    "arr"
   ]
  },
  {
   "cell_type": "markdown",
   "id": "59a10741",
   "metadata": {},
   "source": [
    "#### Create a 5 x 5 matrix by generating values by Gaussian Distribution (randn() function)"
   ]
  },
  {
   "cell_type": "code",
   "execution_count": 44,
   "id": "664f6907",
   "metadata": {},
   "outputs": [
    {
     "data": {
      "text/plain": [
       "array([[-1.21656576, -0.77137879, -0.55329317,  1.10327975, -0.77565352],\n",
       "       [ 1.0394513 ,  0.37980769,  0.63903132,  1.11550955, -0.86776628],\n",
       "       [ 0.92616475, -0.10012283,  0.54902854,  0.73752147,  1.78589359],\n",
       "       [-0.08311588,  0.47256349,  1.95671856, -0.58557711,  1.71196514],\n",
       "       [ 1.27422533,  0.22474018,  0.72300231, -0.69588348,  2.19341656]])"
      ]
     },
     "execution_count": 44,
     "metadata": {},
     "output_type": "execute_result"
    }
   ],
   "source": [
    "arr = np.random.randn(25).reshape(5,5)\n",
    "arr"
   ]
  },
  {
   "cell_type": "markdown",
   "id": "882f10be",
   "metadata": {},
   "source": [
    "#### Create an array of 20 elements by dividing the distance between 1 and 5 equal parts"
   ]
  },
  {
   "cell_type": "code",
   "execution_count": 48,
   "id": "20cb9bc5",
   "metadata": {},
   "outputs": [
    {
     "data": {
      "text/plain": [
       "array([1.        , 1.21052632, 1.42105263, 1.63157895, 1.84210526,\n",
       "       2.05263158, 2.26315789, 2.47368421, 2.68421053, 2.89473684,\n",
       "       3.10526316, 3.31578947, 3.52631579, 3.73684211, 3.94736842,\n",
       "       4.15789474, 4.36842105, 4.57894737, 4.78947368, 5.        ])"
      ]
     },
     "execution_count": 48,
     "metadata": {},
     "output_type": "execute_result"
    }
   ],
   "source": [
    "arr = np.linspace(1,5,20)\n",
    "arr"
   ]
  },
  {
   "cell_type": "markdown",
   "id": "c6911ebf",
   "metadata": {},
   "source": [
    "***\n",
    "## Array Indexing"
   ]
  },
  {
   "cell_type": "code",
   "execution_count": 58,
   "id": "2f390a9d",
   "metadata": {},
   "outputs": [
    {
     "data": {
      "text/plain": [
       "array([[  1,   2,   3,   4,   5,   6,   7,   8,   9,  10],\n",
       "       [ 11,  12,  13,  14,  15,  16,  17,  18,  19,  20],\n",
       "       [ 21,  22,  23,  24,  25,  26,  27,  28,  29,  30],\n",
       "       [ 31,  32,  33,  34,  35,  36,  37,  38,  39,  40],\n",
       "       [ 41,  42,  43,  44,  45,  46,  47,  48,  49,  50],\n",
       "       [ 51,  52,  53,  54,  55,  56,  57,  58,  59,  60],\n",
       "       [ 61,  62,  63,  64,  65,  66,  67,  68,  69,  70],\n",
       "       [ 71,  72,  73,  74,  75,  76,  77,  78,  79,  80],\n",
       "       [ 81,  82,  83,  84,  85,  86,  87,  88,  89,  90],\n",
       "       [ 91,  92,  93,  94,  95,  96,  97,  98,  99, 100]])"
      ]
     },
     "execution_count": 58,
     "metadata": {},
     "output_type": "execute_result"
    }
   ],
   "source": [
    "arr  = np.arange(1,101).reshape(10,10)\n",
    "arr"
   ]
  },
  {
   "cell_type": "markdown",
   "id": "bef58af3",
   "metadata": {},
   "source": [
    "### Try to reach the outputs below, using index operations"
   ]
  },
  {
   "cell_type": "markdown",
   "id": "5d95aa2e",
   "metadata": {},
   "source": [
    "### "
   ]
  },
  {
   "cell_type": "markdown",
   "id": "1175d119",
   "metadata": {},
   "source": [
    "**1-)**\\\n",
    "array([[ 41,  42,  43,  44,  45,  46,  47,  48,  49,  50],\\\n",
    "       [ 51,  52,  53,  54,  55,  56,  57,  58,  59,  60],\\\n",
    "       [ 61,  62,  63,  64,  65,  66,  67,  68,  69,  70],\\\n",
    "       [ 71,  72,  73,  74,  75,  76,  77,  78,  79,  80],\\\n",
    "       [ 81,  82,  83,  84,  85,  86,  87,  88,  89,  90],\\\n",
    "       [ 91,  92,  93,  94,  95,  96,  97,  98,  99, 100]])"
   ]
  },
  {
   "cell_type": "code",
   "execution_count": 99,
   "id": "7ca7da94",
   "metadata": {},
   "outputs": [
    {
     "data": {
      "text/plain": [
       "array([[ 41,  42,  43,  44,  45,  46,  47,  48,  49,  50],\n",
       "       [ 51,  52,  53,  54,  55,  56,  57,  58,  59,  60],\n",
       "       [ 61,  62,  63,  64,  65,  66,  67,  68,  69,  70],\n",
       "       [ 71,  72,  73,  74,  75,  76,  77,  78,  79,  80],\n",
       "       [ 81,  82,  83,  84,  85,  86,  87,  88,  89,  90],\n",
       "       [ 91,  92,  93,  94,  95,  96,  97,  98,  99, 100]])"
      ]
     },
     "execution_count": 99,
     "metadata": {},
     "output_type": "execute_result"
    }
   ],
   "source": [
    "arr[4:]"
   ]
  },
  {
   "cell_type": "markdown",
   "id": "b208073b",
   "metadata": {},
   "source": [
    "***"
   ]
  },
  {
   "cell_type": "markdown",
   "id": "0b47b9fa",
   "metadata": {},
   "source": [
    "**2-)**\\\n",
    "array([[ 65,  66,  67,  68,  69,  70],\\\n",
    "       [ 75,  76,  77,  78,  79,  80],\\\n",
    "       [ 85,  86,  87,  88,  89,  90],\\\n",
    "       [ 95,  96,  97,  98,  99, 100]])"
   ]
  },
  {
   "cell_type": "code",
   "execution_count": 70,
   "id": "a9d6cfcb",
   "metadata": {},
   "outputs": [
    {
     "data": {
      "text/plain": [
       "array([[ 65,  66,  67,  68,  69,  70],\n",
       "       [ 75,  76,  77,  78,  79,  80],\n",
       "       [ 85,  86,  87,  88,  89,  90],\n",
       "       [ 95,  96,  97,  98,  99, 100]])"
      ]
     },
     "execution_count": 70,
     "metadata": {},
     "output_type": "execute_result"
    }
   ],
   "source": [
    "arr[6:,4:]"
   ]
  },
  {
   "cell_type": "markdown",
   "id": "d1a8955e",
   "metadata": {},
   "source": [
    "***"
   ]
  },
  {
   "cell_type": "markdown",
   "id": "c96b39ac",
   "metadata": {},
   "source": [
    "**3-)**\\\n",
    "array([[ 3,  4],\\\n",
    "       [13, 14],\\\n",
    "       [23, 24]])"
   ]
  },
  {
   "cell_type": "code",
   "execution_count": 77,
   "id": "5bac97c7",
   "metadata": {},
   "outputs": [
    {
     "data": {
      "text/plain": [
       "array([[ 3,  4],\n",
       "       [13, 14],\n",
       "       [23, 24]])"
      ]
     },
     "execution_count": 77,
     "metadata": {},
     "output_type": "execute_result"
    }
   ],
   "source": [
    "arr[:3,2:4]"
   ]
  },
  {
   "cell_type": "markdown",
   "id": "7f8564a7",
   "metadata": {},
   "source": [
    "***"
   ]
  },
  {
   "cell_type": "markdown",
   "id": "709b827b",
   "metadata": {},
   "source": [
    "**4-)**\\\n",
    "array([ 2, 12, 22])"
   ]
  },
  {
   "cell_type": "code",
   "execution_count": 120,
   "id": "b9c0d4b9",
   "metadata": {},
   "outputs": [
    {
     "data": {
      "text/plain": [
       "array([ 2, 12, 22])"
      ]
     },
     "execution_count": 120,
     "metadata": {},
     "output_type": "execute_result"
    }
   ],
   "source": [
    "arr[:3,1]"
   ]
  },
  {
   "cell_type": "markdown",
   "id": "289577ac",
   "metadata": {},
   "source": [
    "***"
   ]
  },
  {
   "cell_type": "markdown",
   "id": "ba22e2f1",
   "metadata": {},
   "source": [
    "**5-)**\\\n",
    "array([[ 2],\\\n",
    "       [12],\\\n",
    "       [22]])"
   ]
  },
  {
   "cell_type": "code",
   "execution_count": 121,
   "id": "b077893a",
   "metadata": {},
   "outputs": [
    {
     "data": {
      "text/plain": [
       "array([[ 2],\n",
       "       [12],\n",
       "       [22]])"
      ]
     },
     "execution_count": 121,
     "metadata": {},
     "output_type": "execute_result"
    }
   ],
   "source": [
    "arr[:3,1:2]"
   ]
  },
  {
   "cell_type": "markdown",
   "id": "7f01ff75",
   "metadata": {},
   "source": [
    "***"
   ]
  },
  {
   "cell_type": "markdown",
   "id": "96b8755a",
   "metadata": {},
   "source": [
    "**6-)**\\\n",
    "array([ 10,  20,  30,  40,  50,  60,  70,  80,  90, 100])"
   ]
  },
  {
   "cell_type": "code",
   "execution_count": 146,
   "id": "c8045fbc",
   "metadata": {},
   "outputs": [
    {
     "data": {
      "text/plain": [
       "array([ 10,  20,  30,  40,  50,  60,  70,  80,  90, 100])"
      ]
     },
     "execution_count": 146,
     "metadata": {},
     "output_type": "execute_result"
    }
   ],
   "source": [
    "arr[:10:,-1]"
   ]
  },
  {
   "cell_type": "code",
   "execution_count": 148,
   "id": "a739d4ee",
   "metadata": {},
   "outputs": [
    {
     "data": {
      "text/plain": [
       "array([ 10,  20,  30,  40,  50,  60,  70,  80,  90, 100])"
      ]
     },
     "execution_count": 148,
     "metadata": {},
     "output_type": "execute_result"
    }
   ],
   "source": [
    "arr[:,9] # OTHER WAY"
   ]
  },
  {
   "cell_type": "markdown",
   "id": "4440d7e6",
   "metadata": {},
   "source": [
    "***"
   ]
  },
  {
   "cell_type": "markdown",
   "id": "e977c788",
   "metadata": {},
   "source": [
    "## Array Operations"
   ]
  },
  {
   "cell_type": "code",
   "execution_count": 176,
   "id": "684961cf",
   "metadata": {},
   "outputs": [],
   "source": [
    "arr1 = ((np.random.rand(9) * 5).astype(int)).reshape(3,3)\n",
    "arr2 = ((np.random.rand(9) * 5).astype(int)).reshape(3,3)"
   ]
  },
  {
   "cell_type": "code",
   "execution_count": 177,
   "id": "842fdfb2",
   "metadata": {},
   "outputs": [
    {
     "data": {
      "text/plain": [
       "array([[4, 1, 4],\n",
       "       [1, 1, 3],\n",
       "       [3, 1, 0]])"
      ]
     },
     "execution_count": 177,
     "metadata": {},
     "output_type": "execute_result"
    }
   ],
   "source": [
    "arr1"
   ]
  },
  {
   "cell_type": "code",
   "execution_count": 178,
   "id": "6ba746cc",
   "metadata": {},
   "outputs": [
    {
     "data": {
      "text/plain": [
       "array([[3, 3, 4],\n",
       "       [4, 4, 4],\n",
       "       [3, 4, 0]])"
      ]
     },
     "execution_count": 178,
     "metadata": {},
     "output_type": "execute_result"
    }
   ],
   "source": [
    "arr2"
   ]
  },
  {
   "cell_type": "markdown",
   "id": "978df983",
   "metadata": {},
   "source": [
    "***\n",
    "#### Sum up both matrices"
   ]
  },
  {
   "cell_type": "code",
   "execution_count": 179,
   "id": "9cfe9733",
   "metadata": {},
   "outputs": [
    {
     "data": {
      "text/plain": [
       "array([[7, 4, 8],\n",
       "       [5, 5, 7],\n",
       "       [6, 5, 0]])"
      ]
     },
     "execution_count": 179,
     "metadata": {},
     "output_type": "execute_result"
    }
   ],
   "source": [
    "arr1 + arr2"
   ]
  },
  {
   "cell_type": "markdown",
   "id": "c2d1afc7",
   "metadata": {},
   "source": [
    "***\n",
    "#### Multiply both matrices"
   ]
  },
  {
   "cell_type": "code",
   "execution_count": 181,
   "id": "22bc81be",
   "metadata": {},
   "outputs": [
    {
     "data": {
      "text/plain": [
       "array([[12,  3, 16],\n",
       "       [ 4,  4, 12],\n",
       "       [ 9,  4,  0]])"
      ]
     },
     "execution_count": 181,
     "metadata": {},
     "output_type": "execute_result"
    }
   ],
   "source": [
    "arr1 * arr2"
   ]
  },
  {
   "cell_type": "markdown",
   "id": "83024d1c",
   "metadata": {},
   "source": [
    "***\n",
    "#### Find the mean of arr1 matrix"
   ]
  },
  {
   "cell_type": "code",
   "execution_count": 182,
   "id": "c4a9a033",
   "metadata": {},
   "outputs": [
    {
     "data": {
      "text/plain": [
       "2.0"
      ]
     },
     "execution_count": 182,
     "metadata": {},
     "output_type": "execute_result"
    }
   ],
   "source": [
    "arr1.mean()"
   ]
  },
  {
   "cell_type": "markdown",
   "id": "5df5252b",
   "metadata": {},
   "source": [
    "***\n",
    "#### Find the sum of all components of arr2"
   ]
  },
  {
   "cell_type": "code",
   "execution_count": 183,
   "id": "ed5ca0ab",
   "metadata": {},
   "outputs": [
    {
     "data": {
      "text/plain": [
       "29"
      ]
     },
     "execution_count": 183,
     "metadata": {},
     "output_type": "execute_result"
    }
   ],
   "source": [
    "arr2.sum()"
   ]
  }
 ],
 "metadata": {
  "kernelspec": {
   "display_name": "Python 3",
   "language": "python",
   "name": "python3"
  },
  "language_info": {
   "codemirror_mode": {
    "name": "ipython",
    "version": 3
   },
   "file_extension": ".py",
   "mimetype": "text/x-python",
   "name": "python",
   "nbconvert_exporter": "python",
   "pygments_lexer": "ipython3",
   "version": "3.8.8"
  }
 },
 "nbformat": 4,
 "nbformat_minor": 5
}

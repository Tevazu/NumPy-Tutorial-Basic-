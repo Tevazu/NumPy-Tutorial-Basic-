{
 "cells": [
  {
   "cell_type": "markdown",
   "id": "65fc569a",
   "metadata": {},
   "source": [
    "### Numpy is a Linear Algebra Module and it's useful if you work on:\n",
    "• Data Mining\\\n",
    "• Machine Learning and Data Analysis\\\n",
    "• One-Dimensional and Multidimensional Array Structure\n",
    "\n",
    "\n",
    "\n"
   ]
  },
  {
   "cell_type": "markdown",
   "id": "0fa1f1c5",
   "metadata": {},
   "source": [
    "### Why do we prefer Numpy while working on Data Analysis?\n",
    "• Array structure in Numpy, occupies very little space compared to lists.\\\n",
    "• Reaching arrays' components faster than lists.\\\n",
    "• It contains effective methods and functions."
   ]
  },
  {
   "cell_type": "markdown",
   "id": "f9517a8f",
   "metadata": {},
   "source": [
    "### Setup:\n",
    "Numpy gets installed with Anaconda but if it doesn't:\\\n",
    "\\\n",
    "•If there is Anaconda Distribution\\\n",
    "    _**conda install numpy**_  \n",
    "    \n",
    "•If there isn't Anaconda Distribution\\\n",
    "    **_pip install numpy_**\n",
    "    "
   ]
  }
 ],
 "metadata": {
  "kernelspec": {
   "display_name": "Python 3",
   "language": "python",
   "name": "python3"
  },
  "language_info": {
   "codemirror_mode": {
    "name": "ipython",
    "version": 3
   },
   "file_extension": ".py",
   "mimetype": "text/x-python",
   "name": "python",
   "nbconvert_exporter": "python",
   "pygments_lexer": "ipython3",
   "version": "3.8.8"
  }
 },
 "nbformat": 4,
 "nbformat_minor": 5
}
